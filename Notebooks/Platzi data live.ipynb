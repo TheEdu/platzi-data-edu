{
 "cells": [
  {
   "cell_type": "markdown",
   "metadata": {},
   "source": [
    "# Ingeniería de Datos con Python"
   ]
  },
  {
   "cell_type": "markdown",
   "metadata": {},
   "source": [
    "## Introducción"
   ]
  },
  {
   "cell_type": "code",
   "execution_count": null,
   "metadata": {},
   "outputs": [],
   "source": [
    "print('Hello, world!')"
   ]
  },
  {
   "cell_type": "code",
   "execution_count": null,
   "metadata": {},
   "outputs": [],
   "source": [
    "print('segunda linea')"
   ]
  },
  {
   "cell_type": "markdown",
   "metadata": {},
   "source": [
    "## Tipos de datos"
   ]
  },
  {
   "cell_type": "markdown",
   "metadata": {},
   "source": [
    "### Primitivos"
   ]
  },
  {
   "cell_type": "code",
   "execution_count": null,
   "metadata": {},
   "outputs": [],
   "source": [
    "from datetime import datetime\n",
    "\n",
    "integer_type = 42\n",
    "float_type = 3.14159\n",
    "bool_type = False\n",
    "hex_type = 0xff\n",
    "oct_type = 0o23\n",
    "today = datetime.now()\n",
    "str_type = 'David'"
   ]
  },
  {
   "cell_type": "markdown",
   "metadata": {},
   "source": [
    "### Estructurados"
   ]
  },
  {
   "cell_type": "code",
   "execution_count": null,
   "metadata": {},
   "outputs": [],
   "source": [
    "from IPython.display import Image\n",
    "\n",
    "Image('mysql_table_example.png')"
   ]
  },
  {
   "cell_type": "markdown",
   "metadata": {},
   "source": [
    "### Semi estructurados"
   ]
  },
  {
   "cell_type": "code",
   "execution_count": null,
   "metadata": {},
   "outputs": [],
   "source": [
    "Image('html_markup_example.png')"
   ]
  },
  {
   "cell_type": "markdown",
   "metadata": {},
   "source": [
    "### No estructurados"
   ]
  },
  {
   "cell_type": "markdown",
   "metadata": {},
   "source": [
    "Beautiful is better than ugly.\n",
    "\n",
    "Explicit is better than implicit.\n",
    "\n",
    "Simple is better than complex.\n",
    "\n",
    "Complex is better than complicated.\n",
    "\n",
    "Flat is better than nested.\n",
    "\n",
    "Sparse is better than dense.\n",
    "\n",
    "Readability counts.\n",
    "\n",
    "Special cases aren't special enough to break the rules.\n",
    "\n",
    "Although practicality beats purity.\n",
    "\n",
    "Errors should never pass silently.\n",
    "\n",
    "Unless explicitly silenced.\n",
    "\n",
    "In the face of ambiguity, refuse the temptation to guess.\n",
    "\n",
    "There should be one-- and preferably only one --obvious way to do it.\n",
    "\n",
    "Although that way may not be obvious at first unless you're Dutch.\n",
    "\n",
    "Now is better than never.\n",
    "\n",
    "Although never is often better than *right* now.\n",
    "\n",
    "If the implementation is hard to explain, it's a bad idea.\n",
    "\n",
    "If the implementation is easy to explain, it may be a good idea.\n",
    "\n",
    "Namespaces are one honking great idea -- let's do more of those!"
   ]
  },
  {
   "cell_type": "markdown",
   "metadata": {},
   "source": [
    "### Solicitudes a la Web"
   ]
  },
  {
   "cell_type": "code",
   "execution_count": null,
   "metadata": {},
   "outputs": [],
   "source": [
    "import requests\n",
    "\n",
    "response = requests.get('https://platzi.com')"
   ]
  },
  {
   "cell_type": "code",
   "execution_count": null,
   "metadata": {},
   "outputs": [],
   "source": [
    "response??"
   ]
  },
  {
   "cell_type": "code",
   "execution_count": null,
   "metadata": {
    "scrolled": true
   },
   "outputs": [],
   "source": [
    "print(dir(response))"
   ]
  },
  {
   "cell_type": "code",
   "execution_count": null,
   "metadata": {},
   "outputs": [],
   "source": [
    "response.text"
   ]
  },
  {
   "cell_type": "markdown",
   "metadata": {},
   "source": [
    "### Extraccion de datos de un Documento HTML"
   ]
  },
  {
   "cell_type": "code",
   "execution_count": null,
   "metadata": {},
   "outputs": [],
   "source": [
    "import bs4\n",
    "\n",
    "soup = bs4.BeautifulSoup(response.text,'html.parser')"
   ]
  },
  {
   "cell_type": "code",
   "execution_count": null,
   "metadata": {},
   "outputs": [],
   "source": [
    "soup.select('meta[name=description]')"
   ]
  },
  {
   "cell_type": "code",
   "execution_count": null,
   "metadata": {},
   "outputs": [],
   "source": [
    "response2 = requests.get('https://platzi.com/categorias/desarrollo/')\n",
    "soup2 = bs4.BeautifulSoup(response2.text,'html.parser')\n",
    "cards = soup2.select('.CarrersItem')\n",
    "cards_links = [card['href'] for card in cards]\n",
    "cards_links"
   ]
  },
  {
   "cell_type": "code",
   "execution_count": null,
   "metadata": {},
   "outputs": [],
   "source": [
    "response3 = requests.get('https://impactolocal.com.ar')\n",
    "soup3 = bs4.BeautifulSoup(response3.text,'html.parser')\n",
    "news_elems = soup3.select('.entry-title a')\n",
    "news_links = [news_elem['href'] for news_elem in news_elems]\n",
    "news_texts = [requests.get(news_link).text for news_link in news_links]\n",
    "news = []\n",
    "for news_text in news_texts:\n",
    "    news_soup = bs4.BeautifulSoup(news_text,'html.parser')\n",
    "    title = news_soup.select('.td-post-title h1')[0].text\n",
    "    body = [p.text for p in news_soup.select('.td-post-content p')]\n",
    "    news.append({title:body})\n",
    "news"
   ]
  },
  {
   "cell_type": "markdown",
   "metadata": {},
   "source": [
    "## Pandas"
   ]
  },
  {
   "cell_type": "code",
   "execution_count": 1,
   "metadata": {},
   "outputs": [],
   "source": [
    "import pandas as pd"
   ]
  },
  {
   "cell_type": "markdown",
   "metadata": {},
   "source": [
    "##### Series"
   ]
  },
  {
   "cell_type": "code",
   "execution_count": 9,
   "metadata": {},
   "outputs": [
    {
     "data": {
      "text/plain": [
       "0    1\n",
       "1    2\n",
       "2    3\n",
       "dtype: int64"
      ]
     },
     "execution_count": 9,
     "metadata": {},
     "output_type": "execute_result"
    }
   ],
   "source": [
    "serie1 = pd.Series([1,2,3])\n",
    "serie1"
   ]
  },
  {
   "cell_type": "code",
   "execution_count": 10,
   "metadata": {},
   "outputs": [
    {
     "data": {
      "text/plain": [
       "1900    1\n",
       "1901    2\n",
       "1902    3\n",
       "dtype: int64"
      ]
     },
     "execution_count": 10,
     "metadata": {},
     "output_type": "execute_result"
    }
   ],
   "source": [
    "serie2 = pd.Series({1900: 1, 1901: 2, 1902: 3})\n",
    "serie2"
   ]
  },
  {
   "cell_type": "markdown",
   "metadata": {},
   "source": [
    "##### DataFrames"
   ]
  },
  {
   "cell_type": "code",
   "execution_count": 18,
   "metadata": {},
   "outputs": [
    {
     "data": {
      "text/html": [
       "<div>\n",
       "<style scoped>\n",
       "    .dataframe tbody tr th:only-of-type {\n",
       "        vertical-align: middle;\n",
       "    }\n",
       "\n",
       "    .dataframe tbody tr th {\n",
       "        vertical-align: top;\n",
       "    }\n",
       "\n",
       "    .dataframe thead th {\n",
       "        text-align: right;\n",
       "    }\n",
       "</style>\n",
       "<table border=\"1\" class=\"dataframe\">\n",
       "  <thead>\n",
       "    <tr style=\"text-align: right;\">\n",
       "      <th></th>\n",
       "      <th>0</th>\n",
       "      <th>1</th>\n",
       "      <th>2</th>\n",
       "    </tr>\n",
       "  </thead>\n",
       "  <tbody>\n",
       "    <tr>\n",
       "      <th>0</th>\n",
       "      <td>1</td>\n",
       "      <td>2</td>\n",
       "      <td>3</td>\n",
       "    </tr>\n",
       "    <tr>\n",
       "      <th>1</th>\n",
       "      <td>4</td>\n",
       "      <td>5</td>\n",
       "      <td>6</td>\n",
       "    </tr>\n",
       "    <tr>\n",
       "      <th>2</th>\n",
       "      <td>7</td>\n",
       "      <td>8</td>\n",
       "      <td>9</td>\n",
       "    </tr>\n",
       "  </tbody>\n",
       "</table>\n",
       "</div>"
      ],
      "text/plain": [
       "   0  1  2\n",
       "0  1  2  3\n",
       "1  4  5  6\n",
       "2  7  8  9"
      ]
     },
     "execution_count": 18,
     "metadata": {},
     "output_type": "execute_result"
    }
   ],
   "source": [
    "df = pd.DataFrame([[1, 2, 3], [4, 5, 6], [7, 8, 9]])\n",
    "df"
   ]
  },
  {
   "cell_type": "code",
   "execution_count": 19,
   "metadata": {},
   "outputs": [
    {
     "data": {
      "text/html": [
       "<div>\n",
       "<style scoped>\n",
       "    .dataframe tbody tr th:only-of-type {\n",
       "        vertical-align: middle;\n",
       "    }\n",
       "\n",
       "    .dataframe tbody tr th {\n",
       "        vertical-align: top;\n",
       "    }\n",
       "\n",
       "    .dataframe thead th {\n",
       "        text-align: right;\n",
       "    }\n",
       "</style>\n",
       "<table border=\"1\" class=\"dataframe\">\n",
       "  <thead>\n",
       "    <tr style=\"text-align: right;\">\n",
       "      <th></th>\n",
       "      <th>1900</th>\n",
       "      <th>1901</th>\n",
       "      <th>1902</th>\n",
       "    </tr>\n",
       "  </thead>\n",
       "  <tbody>\n",
       "    <tr>\n",
       "      <th>0</th>\n",
       "      <td>1</td>\n",
       "      <td>4</td>\n",
       "      <td>7</td>\n",
       "    </tr>\n",
       "    <tr>\n",
       "      <th>1</th>\n",
       "      <td>2</td>\n",
       "      <td>5</td>\n",
       "      <td>8</td>\n",
       "    </tr>\n",
       "    <tr>\n",
       "      <th>2</th>\n",
       "      <td>3</td>\n",
       "      <td>6</td>\n",
       "      <td>9</td>\n",
       "    </tr>\n",
       "  </tbody>\n",
       "</table>\n",
       "</div>"
      ],
      "text/plain": [
       "   1900  1901  1902\n",
       "0     1     4     7\n",
       "1     2     5     8\n",
       "2     3     6     9"
      ]
     },
     "execution_count": 19,
     "metadata": {},
     "output_type": "execute_result"
    }
   ],
   "source": [
    "df = pd.DataFrame({1900: [1, 2, 3], 1901: [4, 5, 6], 1902: [7, 8, 9]})\n",
    "df"
   ]
  },
  {
   "cell_type": "code",
   "execution_count": 20,
   "metadata": {},
   "outputs": [
    {
     "data": {
      "text/html": [
       "<div>\n",
       "<style scoped>\n",
       "    .dataframe tbody tr th:only-of-type {\n",
       "        vertical-align: middle;\n",
       "    }\n",
       "\n",
       "    .dataframe tbody tr th {\n",
       "        vertical-align: top;\n",
       "    }\n",
       "\n",
       "    .dataframe thead th {\n",
       "        text-align: right;\n",
       "    }\n",
       "</style>\n",
       "<table border=\"1\" class=\"dataframe\">\n",
       "  <thead>\n",
       "    <tr style=\"text-align: right;\">\n",
       "      <th></th>\n",
       "      <th>col_a</th>\n",
       "      <th>col_b</th>\n",
       "      <th>col_c</th>\n",
       "    </tr>\n",
       "  </thead>\n",
       "  <tbody>\n",
       "    <tr>\n",
       "      <th>0</th>\n",
       "      <td>1</td>\n",
       "      <td>2</td>\n",
       "      <td>3</td>\n",
       "    </tr>\n",
       "    <tr>\n",
       "      <th>1</th>\n",
       "      <td>4</td>\n",
       "      <td>5</td>\n",
       "      <td>6</td>\n",
       "    </tr>\n",
       "    <tr>\n",
       "      <th>2</th>\n",
       "      <td>7</td>\n",
       "      <td>8</td>\n",
       "      <td>9</td>\n",
       "    </tr>\n",
       "  </tbody>\n",
       "</table>\n",
       "</div>"
      ],
      "text/plain": [
       "   col_a  col_b  col_c\n",
       "0      1      2      3\n",
       "1      4      5      6\n",
       "2      7      8      9"
      ]
     },
     "execution_count": 20,
     "metadata": {},
     "output_type": "execute_result"
    }
   ],
   "source": [
    "df2 = pd.DataFrame([[1, 2, 3], [4, 5, 6], [7, 8, 9]], columns=['col_a', 'col_b', 'col_c'])\n",
    "df2"
   ]
  },
  {
   "cell_type": "markdown",
   "metadata": {},
   "source": [
    "### Indices y Seleccion"
   ]
  },
  {
   "cell_type": "code",
   "execution_count": 27,
   "metadata": {},
   "outputs": [],
   "source": [
    "pd.options.display.max_rows = 10"
   ]
  },
  {
   "cell_type": "code",
   "execution_count": 28,
   "metadata": {},
   "outputs": [
    {
     "data": {
      "text/html": [
       "<div>\n",
       "<style scoped>\n",
       "    .dataframe tbody tr th:only-of-type {\n",
       "        vertical-align: middle;\n",
       "    }\n",
       "\n",
       "    .dataframe tbody tr th {\n",
       "        vertical-align: top;\n",
       "    }\n",
       "\n",
       "    .dataframe thead th {\n",
       "        text-align: right;\n",
       "    }\n",
       "</style>\n",
       "<table border=\"1\" class=\"dataframe\">\n",
       "  <thead>\n",
       "    <tr style=\"text-align: right;\">\n",
       "      <th></th>\n",
       "      <th>body_csv</th>\n",
       "      <th>title_csv</th>\n",
       "      <th>url_csv</th>\n",
       "    </tr>\n",
       "  </thead>\n",
       "  <tbody>\n",
       "    <tr>\n",
       "      <th>0</th>\n",
       "      <td>\\r\\n\\r\\nEl concejal de Cambiemos junto a sus p...</td>\n",
       "      <td>El concejal Marcelo Matzkin presentó un proyec...</td>\n",
       "      <td>https://impactolocal.com.ar/2019/03/12/conceja...</td>\n",
       "    </tr>\n",
       "    <tr>\n",
       "      <th>1</th>\n",
       "      <td>\\r\\nFOTO: ARCHIVO\\r\\nEl oficial fue intercepta...</td>\n",
       "      <td>Policía Local de Campana se resistió a un robo...</td>\n",
       "      <td>https://impactolocal.com.ar/2019/03/08/policia...</td>\n",
       "    </tr>\n",
       "    <tr>\n",
       "      <th>2</th>\n",
       "      <td>\\r\\n\\r\\nMientras que todavía se mantiene el co...</td>\n",
       "      <td>Comunicado oficial de la Municipalidad: solici...</td>\n",
       "      <td>https://impactolocal.com.ar/2019/03/13/comunic...</td>\n",
       "    </tr>\n",
       "    <tr>\n",
       "      <th>3</th>\n",
       "      <td>\\r\\n\\r\\nDesde hace dos días los chicos que asi...</td>\n",
       "      <td>Los alumnos de la escuela agropecuaria del Tat...</td>\n",
       "      <td>https://impactolocal.com.ar/2019/03/13/los-alu...</td>\n",
       "    </tr>\n",
       "    <tr>\n",
       "      <th>4</th>\n",
       "      <td>\\r\\n\\r\\nLa diputada Sandra París participó de ...</td>\n",
       "      <td>Sandra París estuvo junto al presidente Macri ...</td>\n",
       "      <td>https://impactolocal.com.ar/2019/03/11/sandra-...</td>\n",
       "    </tr>\n",
       "    <tr>\n",
       "      <th>...</th>\n",
       "      <td>...</td>\n",
       "      <td>...</td>\n",
       "      <td>...</td>\n",
       "    </tr>\n",
       "    <tr>\n",
       "      <th>30</th>\n",
       "      <td>\\r\\nLos concejales de Cambiemos cuestionaron l...</td>\n",
       "      <td>Es llamativo el poco profesionalismo que tien...</td>\n",
       "      <td>https://impactolocal.com.ar/2019/03/08/llamati...</td>\n",
       "    </tr>\n",
       "    <tr>\n",
       "      <th>31</th>\n",
       "      <td>\\r\\n\\r\\nEl Tribunal Oral Criminal N° 1 de Moró...</td>\n",
       "      <td>Personal del Registro de violadores llegó a la...</td>\n",
       "      <td>https://impactolocal.com.ar/2019/03/08/persona...</td>\n",
       "    </tr>\n",
       "    <tr>\n",
       "      <th>32</th>\n",
       "      <td>\\r\\n\\r\\nEl Partido Obrero de Zárate mediante e...</td>\n",
       "      <td>Trabajo precarizado y persecución sindical en ...</td>\n",
       "      <td>https://impactolocal.com.ar/2019/03/12/trabajo...</td>\n",
       "    </tr>\n",
       "    <tr>\n",
       "      <th>33</th>\n",
       "      <td>\\r\\nA young male doctor examining an infant gi...</td>\n",
       "      <td>Soplos cardíacos en la etapa de crecimiento</td>\n",
       "      <td>https://impactolocal.com.ar/2018/11/15/soplos-...</td>\n",
       "    </tr>\n",
       "    <tr>\n",
       "      <th>34</th>\n",
       "      <td>\\r\\n\\r\\nUn sujeto fue detenido en el barrio La...</td>\n",
       "      <td>Detuvieron a un sujeto por el presunto abuso a...</td>\n",
       "      <td>https://impactolocal.com.ar/2019/03/11/detuvie...</td>\n",
       "    </tr>\n",
       "  </tbody>\n",
       "</table>\n",
       "<p>35 rows × 3 columns</p>\n",
       "</div>"
      ],
      "text/plain": [
       "                                             body_csv  \\\n",
       "0   \\r\\n\\r\\nEl concejal de Cambiemos junto a sus p...   \n",
       "1   \\r\\nFOTO: ARCHIVO\\r\\nEl oficial fue intercepta...   \n",
       "2   \\r\\n\\r\\nMientras que todavía se mantiene el co...   \n",
       "3   \\r\\n\\r\\nDesde hace dos días los chicos que asi...   \n",
       "4   \\r\\n\\r\\nLa diputada Sandra París participó de ...   \n",
       "..                                                ...   \n",
       "30  \\r\\nLos concejales de Cambiemos cuestionaron l...   \n",
       "31  \\r\\n\\r\\nEl Tribunal Oral Criminal N° 1 de Moró...   \n",
       "32  \\r\\n\\r\\nEl Partido Obrero de Zárate mediante e...   \n",
       "33  \\r\\nA young male doctor examining an infant gi...   \n",
       "34  \\r\\n\\r\\nUn sujeto fue detenido en el barrio La...   \n",
       "\n",
       "                                            title_csv  \\\n",
       "0   El concejal Marcelo Matzkin presentó un proyec...   \n",
       "1   Policía Local de Campana se resistió a un robo...   \n",
       "2   Comunicado oficial de la Municipalidad: solici...   \n",
       "3   Los alumnos de la escuela agropecuaria del Tat...   \n",
       "4   Sandra París estuvo junto al presidente Macri ...   \n",
       "..                                                ...   \n",
       "30  Es llamativo el poco profesionalismo que tien...   \n",
       "31  Personal del Registro de violadores llegó a la...   \n",
       "32  Trabajo precarizado y persecución sindical en ...   \n",
       "33        Soplos cardíacos en la etapa de crecimiento   \n",
       "34  Detuvieron a un sujeto por el presunto abuso a...   \n",
       "\n",
       "                                              url_csv  \n",
       "0   https://impactolocal.com.ar/2019/03/12/conceja...  \n",
       "1   https://impactolocal.com.ar/2019/03/08/policia...  \n",
       "2   https://impactolocal.com.ar/2019/03/13/comunic...  \n",
       "3   https://impactolocal.com.ar/2019/03/13/los-alu...  \n",
       "4   https://impactolocal.com.ar/2019/03/11/sandra-...  \n",
       "..                                                ...  \n",
       "30  https://impactolocal.com.ar/2019/03/08/llamati...  \n",
       "31  https://impactolocal.com.ar/2019/03/08/persona...  \n",
       "32  https://impactolocal.com.ar/2019/03/12/trabajo...  \n",
       "33  https://impactolocal.com.ar/2018/11/15/soplos-...  \n",
       "34  https://impactolocal.com.ar/2019/03/11/detuvie...  \n",
       "\n",
       "[35 rows x 3 columns]"
      ]
     },
     "execution_count": 28,
     "metadata": {},
     "output_type": "execute_result"
    }
   ],
   "source": [
    "impacto_local = pd.read_csv('./../web-scraper-async/impactolocal_13_03_2019.csv', encoding = 'ISO-8859-1')\n",
    "impacto_local"
   ]
  },
  {
   "cell_type": "markdown",
   "metadata": {},
   "source": [
    "#### Dictionary Like"
   ]
  },
  {
   "cell_type": "code",
   "execution_count": 34,
   "metadata": {},
   "outputs": [
    {
     "data": {
      "text/plain": [
       "0     https://impactolocal.com.ar/2019/03/12/conceja...\n",
       "1     https://impactolocal.com.ar/2019/03/08/policia...\n",
       "2     https://impactolocal.com.ar/2019/03/13/comunic...\n",
       "3     https://impactolocal.com.ar/2019/03/13/los-alu...\n",
       "4     https://impactolocal.com.ar/2019/03/11/sandra-...\n",
       "                            ...                        \n",
       "30    https://impactolocal.com.ar/2019/03/08/llamati...\n",
       "31    https://impactolocal.com.ar/2019/03/08/persona...\n",
       "32    https://impactolocal.com.ar/2019/03/12/trabajo...\n",
       "33    https://impactolocal.com.ar/2018/11/15/soplos-...\n",
       "34    https://impactolocal.com.ar/2019/03/11/detuvie...\n",
       "Name: url_csv, Length: 35, dtype: object"
      ]
     },
     "execution_count": 34,
     "metadata": {},
     "output_type": "execute_result"
    }
   ],
   "source": [
    "impacto_local['url_csv']"
   ]
  },
  {
   "cell_type": "code",
   "execution_count": 33,
   "metadata": {},
   "outputs": [
    {
     "data": {
      "text/html": [
       "<div>\n",
       "<style scoped>\n",
       "    .dataframe tbody tr th:only-of-type {\n",
       "        vertical-align: middle;\n",
       "    }\n",
       "\n",
       "    .dataframe tbody tr th {\n",
       "        vertical-align: top;\n",
       "    }\n",
       "\n",
       "    .dataframe thead th {\n",
       "        text-align: right;\n",
       "    }\n",
       "</style>\n",
       "<table border=\"1\" class=\"dataframe\">\n",
       "  <thead>\n",
       "    <tr style=\"text-align: right;\">\n",
       "      <th></th>\n",
       "      <th>url_csv</th>\n",
       "    </tr>\n",
       "  </thead>\n",
       "  <tbody>\n",
       "    <tr>\n",
       "      <th>0</th>\n",
       "      <td>https://impactolocal.com.ar/2019/03/12/conceja...</td>\n",
       "    </tr>\n",
       "    <tr>\n",
       "      <th>1</th>\n",
       "      <td>https://impactolocal.com.ar/2019/03/08/policia...</td>\n",
       "    </tr>\n",
       "    <tr>\n",
       "      <th>2</th>\n",
       "      <td>https://impactolocal.com.ar/2019/03/13/comunic...</td>\n",
       "    </tr>\n",
       "    <tr>\n",
       "      <th>3</th>\n",
       "      <td>https://impactolocal.com.ar/2019/03/13/los-alu...</td>\n",
       "    </tr>\n",
       "    <tr>\n",
       "      <th>4</th>\n",
       "      <td>https://impactolocal.com.ar/2019/03/11/sandra-...</td>\n",
       "    </tr>\n",
       "    <tr>\n",
       "      <th>...</th>\n",
       "      <td>...</td>\n",
       "    </tr>\n",
       "    <tr>\n",
       "      <th>30</th>\n",
       "      <td>https://impactolocal.com.ar/2019/03/08/llamati...</td>\n",
       "    </tr>\n",
       "    <tr>\n",
       "      <th>31</th>\n",
       "      <td>https://impactolocal.com.ar/2019/03/08/persona...</td>\n",
       "    </tr>\n",
       "    <tr>\n",
       "      <th>32</th>\n",
       "      <td>https://impactolocal.com.ar/2019/03/12/trabajo...</td>\n",
       "    </tr>\n",
       "    <tr>\n",
       "      <th>33</th>\n",
       "      <td>https://impactolocal.com.ar/2018/11/15/soplos-...</td>\n",
       "    </tr>\n",
       "    <tr>\n",
       "      <th>34</th>\n",
       "      <td>https://impactolocal.com.ar/2019/03/11/detuvie...</td>\n",
       "    </tr>\n",
       "  </tbody>\n",
       "</table>\n",
       "<p>35 rows × 1 columns</p>\n",
       "</div>"
      ],
      "text/plain": [
       "                                              url_csv\n",
       "0   https://impactolocal.com.ar/2019/03/12/conceja...\n",
       "1   https://impactolocal.com.ar/2019/03/08/policia...\n",
       "2   https://impactolocal.com.ar/2019/03/13/comunic...\n",
       "3   https://impactolocal.com.ar/2019/03/13/los-alu...\n",
       "4   https://impactolocal.com.ar/2019/03/11/sandra-...\n",
       "..                                                ...\n",
       "30  https://impactolocal.com.ar/2019/03/08/llamati...\n",
       "31  https://impactolocal.com.ar/2019/03/08/persona...\n",
       "32  https://impactolocal.com.ar/2019/03/12/trabajo...\n",
       "33  https://impactolocal.com.ar/2018/11/15/soplos-...\n",
       "34  https://impactolocal.com.ar/2019/03/11/detuvie...\n",
       "\n",
       "[35 rows x 1 columns]"
      ]
     },
     "execution_count": 33,
     "metadata": {},
     "output_type": "execute_result"
    }
   ],
   "source": [
    "impacto_local[['title_csv','url_csv']]"
   ]
  },
  {
   "cell_type": "markdown",
   "metadata": {},
   "source": [
    "##### Numpy Like"
   ]
  },
  {
   "cell_type": "code",
   "execution_count": 32,
   "metadata": {},
   "outputs": [
    {
     "data": {
      "text/html": [
       "<div>\n",
       "<style scoped>\n",
       "    .dataframe tbody tr th:only-of-type {\n",
       "        vertical-align: middle;\n",
       "    }\n",
       "\n",
       "    .dataframe tbody tr th {\n",
       "        vertical-align: top;\n",
       "    }\n",
       "\n",
       "    .dataframe thead th {\n",
       "        text-align: right;\n",
       "    }\n",
       "</style>\n",
       "<table border=\"1\" class=\"dataframe\">\n",
       "  <thead>\n",
       "    <tr style=\"text-align: right;\">\n",
       "      <th></th>\n",
       "      <th>body_csv</th>\n",
       "      <th>title_csv</th>\n",
       "      <th>url_csv</th>\n",
       "    </tr>\n",
       "  </thead>\n",
       "  <tbody>\n",
       "    <tr>\n",
       "      <th>10</th>\n",
       "      <td>\\r\\n\\r\\nZárate Basket recibirá el viernes a la...</td>\n",
       "      <td>Zárate Basket recibe a Presidente Derqui en un...</td>\n",
       "      <td>https://impactolocal.com.ar/2019/02/28/zarate-...</td>\n",
       "    </tr>\n",
       "    <tr>\n",
       "      <th>11</th>\n",
       "      <td>\\r\\n\\r\\nLuego del período de ajuste y promoció...</td>\n",
       "      <td>Comenzó a funcionar el nuevo servicio de Maste...</td>\n",
       "      <td>https://impactolocal.com.ar/2019/03/12/comenzo...</td>\n",
       "    </tr>\n",
       "    <tr>\n",
       "      <th>12</th>\n",
       "      <td>\\r\\n\\r\\nEl móvil sanitario de la Dirección de ...</td>\n",
       "      <td>Sarampión: el móvil sanitario sigue con las va...</td>\n",
       "      <td>https://impactolocal.com.ar/2018/11/12/sarampi...</td>\n",
       "    </tr>\n",
       "    <tr>\n",
       "      <th>13</th>\n",
       "      <td>\\r\\n\\r\\nGuillermo Bogliacino es el nuevo Direc...</td>\n",
       "      <td>Guillermo Bogliacino: Zárate Basket es un equ...</td>\n",
       "      <td>https://impactolocal.com.ar/2019/02/15/guiller...</td>\n",
       "    </tr>\n",
       "    <tr>\n",
       "      <th>14</th>\n",
       "      <td>\\r\\nEMPLEOS\\r\\nDurante esta semana la delegada...</td>\n",
       "      <td>El Gobierno Provincial presentó un portal de e...</td>\n",
       "      <td>https://impactolocal.com.ar/2019/03/13/gobiern...</td>\n",
       "    </tr>\n",
       "    <tr>\n",
       "      <th>15</th>\n",
       "      <td>\\r\\n\\r\\n\\r\\n\\r\\n\\r\\n\\r\\n\\r\\nEl equipo de la ci...</td>\n",
       "      <td>Zárate Basket confirmó la contratación de Guil...</td>\n",
       "      <td>https://impactolocal.com.ar/2019/03/07/zarate-...</td>\n",
       "    </tr>\n",
       "    <tr>\n",
       "      <th>16</th>\n",
       "      <td>\\r\\nMomento del robo captado por una cámara de...</td>\n",
       "      <td>Este mediodía: motochorros robaron a dos mujeres</td>\n",
       "      <td>https://impactolocal.com.ar/2019/03/12/este-me...</td>\n",
       "    </tr>\n",
       "    <tr>\n",
       "      <th>17</th>\n",
       "      <td>\\r\\nLa jefa de Gabinete, Mariela Schvartz, rea...</td>\n",
       "      <td>Entregaron banderas a instituciones educativas...</td>\n",
       "      <td>https://impactolocal.com.ar/2019/03/13/entrega...</td>\n",
       "    </tr>\n",
       "    <tr>\n",
       "      <th>18</th>\n",
       "      <td>\\r\\n\\r\\nTras cortar la racha negativa de 7 der...</td>\n",
       "      <td>Zárate Basket quiere seguir en la senda ganadora</td>\n",
       "      <td>https://impactolocal.com.ar/2019/02/14/zarate-...</td>\n",
       "    </tr>\n",
       "    <tr>\n",
       "      <th>19</th>\n",
       "      <td>\\r\\n\\r\\nA raíz del intenso temporal la escuela...</td>\n",
       "      <td>La escuela del Tatú quedó bajo agua</td>\n",
       "      <td>https://impactolocal.com.ar/2015/08/08/la-escu...</td>\n",
       "    </tr>\n",
       "  </tbody>\n",
       "</table>\n",
       "</div>"
      ],
      "text/plain": [
       "                                             body_csv  \\\n",
       "10  \\r\\n\\r\\nZárate Basket recibirá el viernes a la...   \n",
       "11  \\r\\n\\r\\nLuego del período de ajuste y promoció...   \n",
       "12  \\r\\n\\r\\nEl móvil sanitario de la Dirección de ...   \n",
       "13  \\r\\n\\r\\nGuillermo Bogliacino es el nuevo Direc...   \n",
       "14  \\r\\nEMPLEOS\\r\\nDurante esta semana la delegada...   \n",
       "15  \\r\\n\\r\\n\\r\\n\\r\\n\\r\\n\\r\\n\\r\\nEl equipo de la ci...   \n",
       "16  \\r\\nMomento del robo captado por una cámara de...   \n",
       "17  \\r\\nLa jefa de Gabinete, Mariela Schvartz, rea...   \n",
       "18  \\r\\n\\r\\nTras cortar la racha negativa de 7 der...   \n",
       "19  \\r\\n\\r\\nA raíz del intenso temporal la escuela...   \n",
       "\n",
       "                                            title_csv  \\\n",
       "10  Zárate Basket recibe a Presidente Derqui en un...   \n",
       "11  Comenzó a funcionar el nuevo servicio de Maste...   \n",
       "12  Sarampión: el móvil sanitario sigue con las va...   \n",
       "13  Guillermo Bogliacino: Zárate Basket es un equ...   \n",
       "14  El Gobierno Provincial presentó un portal de e...   \n",
       "15  Zárate Basket confirmó la contratación de Guil...   \n",
       "16   Este mediodía: motochorros robaron a dos mujeres   \n",
       "17  Entregaron banderas a instituciones educativas...   \n",
       "18   Zárate Basket quiere seguir en la senda ganadora   \n",
       "19                La escuela del Tatú quedó bajo agua   \n",
       "\n",
       "                                              url_csv  \n",
       "10  https://impactolocal.com.ar/2019/02/28/zarate-...  \n",
       "11  https://impactolocal.com.ar/2019/03/12/comenzo...  \n",
       "12  https://impactolocal.com.ar/2018/11/12/sarampi...  \n",
       "13  https://impactolocal.com.ar/2019/02/15/guiller...  \n",
       "14  https://impactolocal.com.ar/2019/03/13/gobiern...  \n",
       "15  https://impactolocal.com.ar/2019/03/07/zarate-...  \n",
       "16  https://impactolocal.com.ar/2019/03/12/este-me...  \n",
       "17  https://impactolocal.com.ar/2019/03/13/entrega...  \n",
       "18  https://impactolocal.com.ar/2019/02/14/zarate-...  \n",
       "19  https://impactolocal.com.ar/2015/08/08/la-escu...  "
      ]
     },
     "execution_count": 32,
     "metadata": {},
     "output_type": "execute_result"
    }
   ],
   "source": [
    "impacto_local.iloc[10:20]"
   ]
  },
  {
   "cell_type": "code",
   "execution_count": 37,
   "metadata": {},
   "outputs": [
    {
     "data": {
      "text/plain": [
       "'https://impactolocal.com.ar/2018/10/17/la-justicia-ordeno-gobierno-vuelva-aplicar-las-vacunas-suspendidas-la-meningitis/'"
      ]
     },
     "execution_count": 37,
     "metadata": {},
     "output_type": "execute_result"
    }
   ],
   "source": [
    "impacto_local.iloc[22]['url_csv']"
   ]
  },
  {
   "cell_type": "code",
   "execution_count": 41,
   "metadata": {},
   "outputs": [
    {
     "data": {
      "text/plain": [
       "1    \\r\\nFOTO: ARCHIVO\\r\\nEl oficial fue intercepta...\n",
       "2    \\r\\n\\r\\nMientras que todavía se mantiene el co...\n",
       "3    \\r\\n\\r\\nDesde hace dos días los chicos que asi...\n",
       "4    \\r\\n\\r\\nLa diputada Sandra París participó de ...\n",
       "Name: body_csv, dtype: object"
      ]
     },
     "execution_count": 41,
     "metadata": {},
     "output_type": "execute_result"
    }
   ],
   "source": [
    "impacto_local.iloc[1:5, 0]"
   ]
  },
  {
   "cell_type": "markdown",
   "metadata": {},
   "source": [
    "##### Label based"
   ]
  },
  {
   "cell_type": "code",
   "execution_count": 43,
   "metadata": {},
   "outputs": [
    {
     "data": {
      "text/html": [
       "<div>\n",
       "<style scoped>\n",
       "    .dataframe tbody tr th:only-of-type {\n",
       "        vertical-align: middle;\n",
       "    }\n",
       "\n",
       "    .dataframe tbody tr th {\n",
       "        vertical-align: top;\n",
       "    }\n",
       "\n",
       "    .dataframe thead th {\n",
       "        text-align: right;\n",
       "    }\n",
       "</style>\n",
       "<table border=\"1\" class=\"dataframe\">\n",
       "  <thead>\n",
       "    <tr style=\"text-align: right;\">\n",
       "      <th></th>\n",
       "      <th>body_csv</th>\n",
       "      <th>title_csv</th>\n",
       "    </tr>\n",
       "  </thead>\n",
       "  <tbody>\n",
       "    <tr>\n",
       "      <th>0</th>\n",
       "      <td>\\r\\n\\r\\nEl concejal de Cambiemos junto a sus p...</td>\n",
       "      <td>El concejal Marcelo Matzkin presentó un proyec...</td>\n",
       "    </tr>\n",
       "    <tr>\n",
       "      <th>1</th>\n",
       "      <td>\\r\\nFOTO: ARCHIVO\\r\\nEl oficial fue intercepta...</td>\n",
       "      <td>Policía Local de Campana se resistió a un robo...</td>\n",
       "    </tr>\n",
       "    <tr>\n",
       "      <th>2</th>\n",
       "      <td>\\r\\n\\r\\nMientras que todavía se mantiene el co...</td>\n",
       "      <td>Comunicado oficial de la Municipalidad: solici...</td>\n",
       "    </tr>\n",
       "    <tr>\n",
       "      <th>3</th>\n",
       "      <td>\\r\\n\\r\\nDesde hace dos días los chicos que asi...</td>\n",
       "      <td>Los alumnos de la escuela agropecuaria del Tat...</td>\n",
       "    </tr>\n",
       "    <tr>\n",
       "      <th>4</th>\n",
       "      <td>\\r\\n\\r\\nLa diputada Sandra París participó de ...</td>\n",
       "      <td>Sandra París estuvo junto al presidente Macri ...</td>\n",
       "    </tr>\n",
       "    <tr>\n",
       "      <th>...</th>\n",
       "      <td>...</td>\n",
       "      <td>...</td>\n",
       "    </tr>\n",
       "    <tr>\n",
       "      <th>30</th>\n",
       "      <td>\\r\\nLos concejales de Cambiemos cuestionaron l...</td>\n",
       "      <td>Es llamativo el poco profesionalismo que tien...</td>\n",
       "    </tr>\n",
       "    <tr>\n",
       "      <th>31</th>\n",
       "      <td>\\r\\n\\r\\nEl Tribunal Oral Criminal N° 1 de Moró...</td>\n",
       "      <td>Personal del Registro de violadores llegó a la...</td>\n",
       "    </tr>\n",
       "    <tr>\n",
       "      <th>32</th>\n",
       "      <td>\\r\\n\\r\\nEl Partido Obrero de Zárate mediante e...</td>\n",
       "      <td>Trabajo precarizado y persecución sindical en ...</td>\n",
       "    </tr>\n",
       "    <tr>\n",
       "      <th>33</th>\n",
       "      <td>\\r\\nA young male doctor examining an infant gi...</td>\n",
       "      <td>Soplos cardíacos en la etapa de crecimiento</td>\n",
       "    </tr>\n",
       "    <tr>\n",
       "      <th>34</th>\n",
       "      <td>\\r\\n\\r\\nUn sujeto fue detenido en el barrio La...</td>\n",
       "      <td>Detuvieron a un sujeto por el presunto abuso a...</td>\n",
       "    </tr>\n",
       "  </tbody>\n",
       "</table>\n",
       "<p>35 rows × 2 columns</p>\n",
       "</div>"
      ],
      "text/plain": [
       "                                             body_csv  \\\n",
       "0   \\r\\n\\r\\nEl concejal de Cambiemos junto a sus p...   \n",
       "1   \\r\\nFOTO: ARCHIVO\\r\\nEl oficial fue intercepta...   \n",
       "2   \\r\\n\\r\\nMientras que todavía se mantiene el co...   \n",
       "3   \\r\\n\\r\\nDesde hace dos días los chicos que asi...   \n",
       "4   \\r\\n\\r\\nLa diputada Sandra París participó de ...   \n",
       "..                                                ...   \n",
       "30  \\r\\nLos concejales de Cambiemos cuestionaron l...   \n",
       "31  \\r\\n\\r\\nEl Tribunal Oral Criminal N° 1 de Moró...   \n",
       "32  \\r\\n\\r\\nEl Partido Obrero de Zárate mediante e...   \n",
       "33  \\r\\nA young male doctor examining an infant gi...   \n",
       "34  \\r\\n\\r\\nUn sujeto fue detenido en el barrio La...   \n",
       "\n",
       "                                            title_csv  \n",
       "0   El concejal Marcelo Matzkin presentó un proyec...  \n",
       "1   Policía Local de Campana se resistió a un robo...  \n",
       "2   Comunicado oficial de la Municipalidad: solici...  \n",
       "3   Los alumnos de la escuela agropecuaria del Tat...  \n",
       "4   Sandra París estuvo junto al presidente Macri ...  \n",
       "..                                                ...  \n",
       "30  Es llamativo el poco profesionalismo que tien...  \n",
       "31  Personal del Registro de violadores llegó a la...  \n",
       "32  Trabajo precarizado y persecución sindical en ...  \n",
       "33        Soplos cardíacos en la etapa de crecimiento  \n",
       "34  Detuvieron a un sujeto por el presunto abuso a...  \n",
       "\n",
       "[35 rows x 2 columns]"
      ]
     },
     "execution_count": 43,
     "metadata": {},
     "output_type": "execute_result"
    }
   ],
   "source": [
    "impacto_local.loc[:, 'body_csv':'title_csv']"
   ]
  },
  {
   "cell_type": "markdown",
   "metadata": {},
   "source": [
    "### Data wrangling"
   ]
  },
  {
   "cell_type": "code",
   "execution_count": 44,
   "metadata": {},
   "outputs": [
    {
     "data": {
      "text/html": [
       "<div>\n",
       "<style scoped>\n",
       "    .dataframe tbody tr th:only-of-type {\n",
       "        vertical-align: middle;\n",
       "    }\n",
       "\n",
       "    .dataframe tbody tr th {\n",
       "        vertical-align: top;\n",
       "    }\n",
       "\n",
       "    .dataframe thead th {\n",
       "        text-align: right;\n",
       "    }\n",
       "</style>\n",
       "<table border=\"1\" class=\"dataframe\">\n",
       "  <thead>\n",
       "    <tr style=\"text-align: right;\">\n",
       "      <th></th>\n",
       "      <th>body_csv</th>\n",
       "      <th>title_csv</th>\n",
       "      <th>url_csv</th>\n",
       "      <th>newspaper_uid</th>\n",
       "    </tr>\n",
       "  </thead>\n",
       "  <tbody>\n",
       "    <tr>\n",
       "      <th>0</th>\n",
       "      <td>\\r\\n\\r\\nEl concejal de Cambiemos junto a sus p...</td>\n",
       "      <td>El concejal Marcelo Matzkin presentó un proyec...</td>\n",
       "      <td>https://impactolocal.com.ar/2019/03/12/conceja...</td>\n",
       "      <td>impactolocal</td>\n",
       "    </tr>\n",
       "    <tr>\n",
       "      <th>1</th>\n",
       "      <td>\\r\\nFOTO: ARCHIVO\\r\\nEl oficial fue intercepta...</td>\n",
       "      <td>Policía Local de Campana se resistió a un robo...</td>\n",
       "      <td>https://impactolocal.com.ar/2019/03/08/policia...</td>\n",
       "      <td>impactolocal</td>\n",
       "    </tr>\n",
       "    <tr>\n",
       "      <th>2</th>\n",
       "      <td>\\r\\n\\r\\nMientras que todavía se mantiene el co...</td>\n",
       "      <td>Comunicado oficial de la Municipalidad: solici...</td>\n",
       "      <td>https://impactolocal.com.ar/2019/03/13/comunic...</td>\n",
       "      <td>impactolocal</td>\n",
       "    </tr>\n",
       "    <tr>\n",
       "      <th>3</th>\n",
       "      <td>\\r\\n\\r\\nDesde hace dos días los chicos que asi...</td>\n",
       "      <td>Los alumnos de la escuela agropecuaria del Tat...</td>\n",
       "      <td>https://impactolocal.com.ar/2019/03/13/los-alu...</td>\n",
       "      <td>impactolocal</td>\n",
       "    </tr>\n",
       "    <tr>\n",
       "      <th>4</th>\n",
       "      <td>\\r\\n\\r\\nLa diputada Sandra París participó de ...</td>\n",
       "      <td>Sandra París estuvo junto al presidente Macri ...</td>\n",
       "      <td>https://impactolocal.com.ar/2019/03/11/sandra-...</td>\n",
       "      <td>impactolocal</td>\n",
       "    </tr>\n",
       "    <tr>\n",
       "      <th>...</th>\n",
       "      <td>...</td>\n",
       "      <td>...</td>\n",
       "      <td>...</td>\n",
       "      <td>...</td>\n",
       "    </tr>\n",
       "    <tr>\n",
       "      <th>30</th>\n",
       "      <td>\\r\\nLos concejales de Cambiemos cuestionaron l...</td>\n",
       "      <td>Es llamativo el poco profesionalismo que tien...</td>\n",
       "      <td>https://impactolocal.com.ar/2019/03/08/llamati...</td>\n",
       "      <td>impactolocal</td>\n",
       "    </tr>\n",
       "    <tr>\n",
       "      <th>31</th>\n",
       "      <td>\\r\\n\\r\\nEl Tribunal Oral Criminal N° 1 de Moró...</td>\n",
       "      <td>Personal del Registro de violadores llegó a la...</td>\n",
       "      <td>https://impactolocal.com.ar/2019/03/08/persona...</td>\n",
       "      <td>impactolocal</td>\n",
       "    </tr>\n",
       "    <tr>\n",
       "      <th>32</th>\n",
       "      <td>\\r\\n\\r\\nEl Partido Obrero de Zárate mediante e...</td>\n",
       "      <td>Trabajo precarizado y persecución sindical en ...</td>\n",
       "      <td>https://impactolocal.com.ar/2019/03/12/trabajo...</td>\n",
       "      <td>impactolocal</td>\n",
       "    </tr>\n",
       "    <tr>\n",
       "      <th>33</th>\n",
       "      <td>\\r\\nA young male doctor examining an infant gi...</td>\n",
       "      <td>Soplos cardíacos en la etapa de crecimiento</td>\n",
       "      <td>https://impactolocal.com.ar/2018/11/15/soplos-...</td>\n",
       "      <td>impactolocal</td>\n",
       "    </tr>\n",
       "    <tr>\n",
       "      <th>34</th>\n",
       "      <td>\\r\\n\\r\\nUn sujeto fue detenido en el barrio La...</td>\n",
       "      <td>Detuvieron a un sujeto por el presunto abuso a...</td>\n",
       "      <td>https://impactolocal.com.ar/2019/03/11/detuvie...</td>\n",
       "      <td>impactolocal</td>\n",
       "    </tr>\n",
       "  </tbody>\n",
       "</table>\n",
       "<p>35 rows × 4 columns</p>\n",
       "</div>"
      ],
      "text/plain": [
       "                                             body_csv  \\\n",
       "0   \\r\\n\\r\\nEl concejal de Cambiemos junto a sus p...   \n",
       "1   \\r\\nFOTO: ARCHIVO\\r\\nEl oficial fue intercepta...   \n",
       "2   \\r\\n\\r\\nMientras que todavía se mantiene el co...   \n",
       "3   \\r\\n\\r\\nDesde hace dos días los chicos que asi...   \n",
       "4   \\r\\n\\r\\nLa diputada Sandra París participó de ...   \n",
       "..                                                ...   \n",
       "30  \\r\\nLos concejales de Cambiemos cuestionaron l...   \n",
       "31  \\r\\n\\r\\nEl Tribunal Oral Criminal N° 1 de Moró...   \n",
       "32  \\r\\n\\r\\nEl Partido Obrero de Zárate mediante e...   \n",
       "33  \\r\\nA young male doctor examining an infant gi...   \n",
       "34  \\r\\n\\r\\nUn sujeto fue detenido en el barrio La...   \n",
       "\n",
       "                                            title_csv  \\\n",
       "0   El concejal Marcelo Matzkin presentó un proyec...   \n",
       "1   Policía Local de Campana se resistió a un robo...   \n",
       "2   Comunicado oficial de la Municipalidad: solici...   \n",
       "3   Los alumnos de la escuela agropecuaria del Tat...   \n",
       "4   Sandra París estuvo junto al presidente Macri ...   \n",
       "..                                                ...   \n",
       "30  Es llamativo el poco profesionalismo que tien...   \n",
       "31  Personal del Registro de violadores llegó a la...   \n",
       "32  Trabajo precarizado y persecución sindical en ...   \n",
       "33        Soplos cardíacos en la etapa de crecimiento   \n",
       "34  Detuvieron a un sujeto por el presunto abuso a...   \n",
       "\n",
       "                                              url_csv newspaper_uid  \n",
       "0   https://impactolocal.com.ar/2019/03/12/conceja...  impactolocal  \n",
       "1   https://impactolocal.com.ar/2019/03/08/policia...  impactolocal  \n",
       "2   https://impactolocal.com.ar/2019/03/13/comunic...  impactolocal  \n",
       "3   https://impactolocal.com.ar/2019/03/13/los-alu...  impactolocal  \n",
       "4   https://impactolocal.com.ar/2019/03/11/sandra-...  impactolocal  \n",
       "..                                                ...           ...  \n",
       "30  https://impactolocal.com.ar/2019/03/08/llamati...  impactolocal  \n",
       "31  https://impactolocal.com.ar/2019/03/08/persona...  impactolocal  \n",
       "32  https://impactolocal.com.ar/2019/03/12/trabajo...  impactolocal  \n",
       "33  https://impactolocal.com.ar/2018/11/15/soplos-...  impactolocal  \n",
       "34  https://impactolocal.com.ar/2019/03/11/detuvie...  impactolocal  \n",
       "\n",
       "[35 rows x 4 columns]"
      ]
     },
     "execution_count": 44,
     "metadata": {},
     "output_type": "execute_result"
    }
   ],
   "source": [
    "impacto_local['newspaper_uid'] = 'impactolocal'\n",
    "impacto_local"
   ]
  },
  {
   "cell_type": "code",
   "execution_count": 48,
   "metadata": {},
   "outputs": [
    {
     "data": {
      "text/html": [
       "<div>\n",
       "<style scoped>\n",
       "    .dataframe tbody tr th:only-of-type {\n",
       "        vertical-align: middle;\n",
       "    }\n",
       "\n",
       "    .dataframe tbody tr th {\n",
       "        vertical-align: top;\n",
       "    }\n",
       "\n",
       "    .dataframe thead th {\n",
       "        text-align: right;\n",
       "    }\n",
       "</style>\n",
       "<table border=\"1\" class=\"dataframe\">\n",
       "  <thead>\n",
       "    <tr style=\"text-align: right;\">\n",
       "      <th></th>\n",
       "      <th>body_csv</th>\n",
       "      <th>title_csv</th>\n",
       "      <th>url_csv</th>\n",
       "      <th>newspaper_uid</th>\n",
       "      <th>host</th>\n",
       "    </tr>\n",
       "  </thead>\n",
       "  <tbody>\n",
       "    <tr>\n",
       "      <th>0</th>\n",
       "      <td>\\r\\n\\r\\nEl concejal de Cambiemos junto a sus p...</td>\n",
       "      <td>El concejal Marcelo Matzkin presentó un proyec...</td>\n",
       "      <td>https://impactolocal.com.ar/2019/03/12/conceja...</td>\n",
       "      <td>impactolocal</td>\n",
       "      <td>impactolocal.com.ar</td>\n",
       "    </tr>\n",
       "    <tr>\n",
       "      <th>1</th>\n",
       "      <td>\\r\\nFOTO: ARCHIVO\\r\\nEl oficial fue intercepta...</td>\n",
       "      <td>Policía Local de Campana se resistió a un robo...</td>\n",
       "      <td>https://impactolocal.com.ar/2019/03/08/policia...</td>\n",
       "      <td>impactolocal</td>\n",
       "      <td>impactolocal.com.ar</td>\n",
       "    </tr>\n",
       "    <tr>\n",
       "      <th>2</th>\n",
       "      <td>\\r\\n\\r\\nMientras que todavía se mantiene el co...</td>\n",
       "      <td>Comunicado oficial de la Municipalidad: solici...</td>\n",
       "      <td>https://impactolocal.com.ar/2019/03/13/comunic...</td>\n",
       "      <td>impactolocal</td>\n",
       "      <td>impactolocal.com.ar</td>\n",
       "    </tr>\n",
       "    <tr>\n",
       "      <th>3</th>\n",
       "      <td>\\r\\n\\r\\nDesde hace dos días los chicos que asi...</td>\n",
       "      <td>Los alumnos de la escuela agropecuaria del Tat...</td>\n",
       "      <td>https://impactolocal.com.ar/2019/03/13/los-alu...</td>\n",
       "      <td>impactolocal</td>\n",
       "      <td>impactolocal.com.ar</td>\n",
       "    </tr>\n",
       "    <tr>\n",
       "      <th>4</th>\n",
       "      <td>\\r\\n\\r\\nLa diputada Sandra París participó de ...</td>\n",
       "      <td>Sandra París estuvo junto al presidente Macri ...</td>\n",
       "      <td>https://impactolocal.com.ar/2019/03/11/sandra-...</td>\n",
       "      <td>impactolocal</td>\n",
       "      <td>impactolocal.com.ar</td>\n",
       "    </tr>\n",
       "    <tr>\n",
       "      <th>...</th>\n",
       "      <td>...</td>\n",
       "      <td>...</td>\n",
       "      <td>...</td>\n",
       "      <td>...</td>\n",
       "      <td>...</td>\n",
       "    </tr>\n",
       "    <tr>\n",
       "      <th>30</th>\n",
       "      <td>\\r\\nLos concejales de Cambiemos cuestionaron l...</td>\n",
       "      <td>Es llamativo el poco profesionalismo que tien...</td>\n",
       "      <td>https://impactolocal.com.ar/2019/03/08/llamati...</td>\n",
       "      <td>impactolocal</td>\n",
       "      <td>impactolocal.com.ar</td>\n",
       "    </tr>\n",
       "    <tr>\n",
       "      <th>31</th>\n",
       "      <td>\\r\\n\\r\\nEl Tribunal Oral Criminal N° 1 de Moró...</td>\n",
       "      <td>Personal del Registro de violadores llegó a la...</td>\n",
       "      <td>https://impactolocal.com.ar/2019/03/08/persona...</td>\n",
       "      <td>impactolocal</td>\n",
       "      <td>impactolocal.com.ar</td>\n",
       "    </tr>\n",
       "    <tr>\n",
       "      <th>32</th>\n",
       "      <td>\\r\\n\\r\\nEl Partido Obrero de Zárate mediante e...</td>\n",
       "      <td>Trabajo precarizado y persecución sindical en ...</td>\n",
       "      <td>https://impactolocal.com.ar/2019/03/12/trabajo...</td>\n",
       "      <td>impactolocal</td>\n",
       "      <td>impactolocal.com.ar</td>\n",
       "    </tr>\n",
       "    <tr>\n",
       "      <th>33</th>\n",
       "      <td>\\r\\nA young male doctor examining an infant gi...</td>\n",
       "      <td>Soplos cardíacos en la etapa de crecimiento</td>\n",
       "      <td>https://impactolocal.com.ar/2018/11/15/soplos-...</td>\n",
       "      <td>impactolocal</td>\n",
       "      <td>impactolocal.com.ar</td>\n",
       "    </tr>\n",
       "    <tr>\n",
       "      <th>34</th>\n",
       "      <td>\\r\\n\\r\\nUn sujeto fue detenido en el barrio La...</td>\n",
       "      <td>Detuvieron a un sujeto por el presunto abuso a...</td>\n",
       "      <td>https://impactolocal.com.ar/2019/03/11/detuvie...</td>\n",
       "      <td>impactolocal</td>\n",
       "      <td>impactolocal.com.ar</td>\n",
       "    </tr>\n",
       "  </tbody>\n",
       "</table>\n",
       "<p>35 rows × 5 columns</p>\n",
       "</div>"
      ],
      "text/plain": [
       "                                             body_csv  \\\n",
       "0   \\r\\n\\r\\nEl concejal de Cambiemos junto a sus p...   \n",
       "1   \\r\\nFOTO: ARCHIVO\\r\\nEl oficial fue intercepta...   \n",
       "2   \\r\\n\\r\\nMientras que todavía se mantiene el co...   \n",
       "3   \\r\\n\\r\\nDesde hace dos días los chicos que asi...   \n",
       "4   \\r\\n\\r\\nLa diputada Sandra París participó de ...   \n",
       "..                                                ...   \n",
       "30  \\r\\nLos concejales de Cambiemos cuestionaron l...   \n",
       "31  \\r\\n\\r\\nEl Tribunal Oral Criminal N° 1 de Moró...   \n",
       "32  \\r\\n\\r\\nEl Partido Obrero de Zárate mediante e...   \n",
       "33  \\r\\nA young male doctor examining an infant gi...   \n",
       "34  \\r\\n\\r\\nUn sujeto fue detenido en el barrio La...   \n",
       "\n",
       "                                            title_csv  \\\n",
       "0   El concejal Marcelo Matzkin presentó un proyec...   \n",
       "1   Policía Local de Campana se resistió a un robo...   \n",
       "2   Comunicado oficial de la Municipalidad: solici...   \n",
       "3   Los alumnos de la escuela agropecuaria del Tat...   \n",
       "4   Sandra París estuvo junto al presidente Macri ...   \n",
       "..                                                ...   \n",
       "30  Es llamativo el poco profesionalismo que tien...   \n",
       "31  Personal del Registro de violadores llegó a la...   \n",
       "32  Trabajo precarizado y persecución sindical en ...   \n",
       "33        Soplos cardíacos en la etapa de crecimiento   \n",
       "34  Detuvieron a un sujeto por el presunto abuso a...   \n",
       "\n",
       "                                              url_csv newspaper_uid  \\\n",
       "0   https://impactolocal.com.ar/2019/03/12/conceja...  impactolocal   \n",
       "1   https://impactolocal.com.ar/2019/03/08/policia...  impactolocal   \n",
       "2   https://impactolocal.com.ar/2019/03/13/comunic...  impactolocal   \n",
       "3   https://impactolocal.com.ar/2019/03/13/los-alu...  impactolocal   \n",
       "4   https://impactolocal.com.ar/2019/03/11/sandra-...  impactolocal   \n",
       "..                                                ...           ...   \n",
       "30  https://impactolocal.com.ar/2019/03/08/llamati...  impactolocal   \n",
       "31  https://impactolocal.com.ar/2019/03/08/persona...  impactolocal   \n",
       "32  https://impactolocal.com.ar/2019/03/12/trabajo...  impactolocal   \n",
       "33  https://impactolocal.com.ar/2018/11/15/soplos-...  impactolocal   \n",
       "34  https://impactolocal.com.ar/2019/03/11/detuvie...  impactolocal   \n",
       "\n",
       "                   host  \n",
       "0   impactolocal.com.ar  \n",
       "1   impactolocal.com.ar  \n",
       "2   impactolocal.com.ar  \n",
       "3   impactolocal.com.ar  \n",
       "4   impactolocal.com.ar  \n",
       "..                  ...  \n",
       "30  impactolocal.com.ar  \n",
       "31  impactolocal.com.ar  \n",
       "32  impactolocal.com.ar  \n",
       "33  impactolocal.com.ar  \n",
       "34  impactolocal.com.ar  \n",
       "\n",
       "[35 rows x 5 columns]"
      ]
     },
     "execution_count": 48,
     "metadata": {},
     "output_type": "execute_result"
    }
   ],
   "source": [
    "from urllib.parse import urlparse\n",
    "impacto_local['host'] = impacto_local['url_csv'].apply(lambda url: urlparse(url).netloc)\n",
    "impacto_local"
   ]
  },
  {
   "cell_type": "code",
   "execution_count": 49,
   "metadata": {},
   "outputs": [
    {
     "data": {
      "text/plain": [
       "impactolocal.com.ar    35\n",
       "Name: host, dtype: int64"
      ]
     },
     "execution_count": 49,
     "metadata": {},
     "output_type": "execute_result"
    }
   ],
   "source": [
    "impacto_local['host'].value_counts()"
   ]
  },
  {
   "cell_type": "code",
   "execution_count": null,
   "metadata": {},
   "outputs": [],
   "source": []
  }
 ],
 "metadata": {
  "kernelspec": {
   "display_name": "Python 3",
   "language": "python",
   "name": "python3"
  },
  "language_info": {
   "codemirror_mode": {
    "name": "ipython",
    "version": 3
   },
   "file_extension": ".py",
   "mimetype": "text/x-python",
   "name": "python",
   "nbconvert_exporter": "python",
   "pygments_lexer": "ipython3",
   "version": "3.7.1"
  }
 },
 "nbformat": 4,
 "nbformat_minor": 2
}
